{
 "cells": [
  {
   "cell_type": "markdown",
   "metadata": {},
   "source": [
    "# Statistics for Hackers\n",
    "Notes and code from Jake VanderPlas's 2016 PyCon talk\n",
    "\n",
    "[Talk](https://www.youtube.com/watch?v=Iq9DzN6mvYA)\n",
    "\n",
    "[Slides](https://speakerdeck.com/pycon2016/jake-vanderplas-statistics-for-hackers)\n",
    "\n",
    "## Intro\n",
    "* A hacker is someone who approaches problem solving by writing code.\n",
    "\n",
    "* Statistics is hard, with programming skills, it can be made easy.\n",
    "\n",
    "* Statistics is primarily about asking the right question\n",
    "\n",
    "* If you can write a for loop, you can do statistics"
   ]
  },
  {
   "cell_type": "markdown",
   "metadata": {},
   "source": [
    "## Warm up: Simulation\n",
    "If you toss a coin 30 times and see 22 heads, is it a fair coin?\n",
    "\n",
    "Advocate: A fair coin should show ~15 or so heads so it is not a fair coin\n",
    "Skeptic: Even a fair coin could show 22 heads by chance\n",
    "\n",
    "### Classical Approach\n",
    "Assume the skeptic is right: Test the *null hypothesis*.\n",
    "Ask what is the probability of a fair coin showing 22 heads?\n",
    "\n",
    "Use the [binomial distribution](https://en.wikipedia.org/wiki/Binomial_distribution) to test.\n"
   ]
  },
  {
   "cell_type": "code",
   "execution_count": 18,
   "metadata": {},
   "outputs": [],
   "source": [
    "import numpy as np\n",
    "from scipy.stats import binom\n",
    "import matplotlib.pyplot as plt\n",
    "%matplotlib inline\n",
    "plt.style.use('fivethirtyeight')"
   ]
  },
  {
   "cell_type": "code",
   "execution_count": 38,
   "metadata": {},
   "outputs": [
    {
     "name": "stdout",
     "output_type": "stream",
     "text": [
      "p =  0.00806240085512\n"
     ]
    },
    {
     "data": {
      "image/png": "[encoded data removed]",
      "text/plain": [
       "<matplotlib.figure.Figure at 0x237a271f5c0>"
      ]
     },
     "metadata": {},
     "output_type": "display_data"
    }
   ],
   "source": [
    "fig, ax = plt.subplots(1,1)\n",
    "n, p = 30, 0.5\n",
    "22\n",
    "\n",
    "x = np.arange(binom.ppf(0.0001, n, p),\n",
    "              binom.ppf(.9999, n, p))\n",
    "\n",
    "ax.plot(x, binom.pmf(x, n, p))\n",
    "ax.vlines(x=H, ymin=0, ymax=.1, linestyles='dashed')\n",
    "\n",
    "print('p = ', binom.cdf(30-H, n, p))"
   ]
  },
  {
   "cell_type": "markdown",
   "metadata": {},
   "source": [
    "There is a 0.8% (p = 0.008) chance of getting 22 heads. \n",
    "\n",
    "p < 0.05 so we reject the null hpyothesis that the coin is fair."
   ]
  },
  {
   "cell_type": "markdown",
   "metadata": {},
   "source": [
    "### Easier way: Simulate it!"
   ]
  },
  {
   "cell_type": "code",
   "execution_count": 54,
   "metadata": {},
   "outputs": [
    {
     "data": {
      "text/plain": [
       "0.00758"
      ]
     },
     "execution_count": 54,
     "metadata": {},
     "output_type": "execute_result"
    }
   ],
   "source": [
    "M = 0\n",
    "for i in range(100000):\n",
    "    trials = np.random.randint(2, size=30)\n",
    "    if trials.sum() >= 22:\n",
    "        M += 1\n",
    "\n",
    "M / 100000"
   ]
  },
  {
   "cell_type": "code",
   "execution_count": null,
   "metadata": {
    "collapsed": true
   },
   "outputs": [],
   "source": []
  },
  {
   "cell_type": "code",
   "execution_count": null,
   "metadata": {
    "collapsed": true
   },
   "outputs": [],
   "source": []
  }
 ],
 "metadata": {
  "kernelspec": {
   "display_name": "Python [default]",
   "language": "python",
   "name": "python3"
  },
  "language_info": {
   "codemirror_mode": {
    "name": "ipython",
    "version": 3
   },
   "file_extension": ".py",
   "mimetype": "text/x-python",
   "name": "python",
   "nbconvert_exporter": "python",
   "pygments_lexer": "ipython3",
   "version": "3.6.1"
  }
 },
 "nbformat": 4,
 "nbformat_minor": 2
}
